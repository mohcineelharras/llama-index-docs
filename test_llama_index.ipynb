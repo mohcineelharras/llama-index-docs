{
 "cells": [
  {
   "cell_type": "code",
   "execution_count": 14,
   "metadata": {},
   "outputs": [
    {
     "name": "stdout",
     "output_type": "stream",
     "text": [
      "load INSTRUCTOR_Transformer\n",
      "max_seq_length  512\n"
     ]
    }
   ],
   "source": [
    "from tqdm.notebook import tqdm\n",
    "import os\n",
    "os.environ[\"OPENAI_API_KEY\"] = \"NOOPE\"\n",
    "os.environ[\"OPENAI_API_BASE\"] = \"http://172.19.208.1:1300/v1\"\n",
    "from IPython.display import Markdown, display\n",
    "from llama_index.embeddings import InstructorEmbedding\n",
    "from llama_index import ServiceContext, set_global_service_context\n",
    "embed_model_inst = InstructorEmbedding(model_name=\"hkunlp/instructor-large\")\n",
    "service_context = ServiceContext.from_defaults(embed_model=embed_model_inst)"
   ]
  },
  {
   "cell_type": "markdown",
   "metadata": {},
   "source": [
    "### for text"
   ]
  },
  {
   "cell_type": "code",
   "execution_count": 22,
   "metadata": {},
   "outputs": [
    {
     "name": "stdout",
     "output_type": "stream",
     "text": [
      "768\n"
     ]
    }
   ],
   "source": [
    "text_embeddings = embed_model_inst.get_text_embedding(\"AI is awesome!\")\n",
    "print(len(text_embeddings))\n",
    "#print(text_embeddings)"
   ]
  },
  {
   "cell_type": "markdown",
   "metadata": {},
   "source": [
    "### For documents"
   ]
  },
  {
   "cell_type": "code",
   "execution_count": 15,
   "metadata": {},
   "outputs": [
    {
     "name": "stdout",
     "output_type": "stream",
     "text": [
      "Number of documents: 1\n"
     ]
    }
   ],
   "source": [
    "from llama_index import VectorStoreIndex, SimpleDirectoryReader\n",
    "documents = SimpleDirectoryReader(\"data\").load_data()\n",
    "print(f\"Number of documents: {len(documents)}\")"
   ]
  },
  {
   "cell_type": "code",
   "execution_count": 16,
   "metadata": {},
   "outputs": [
    {
     "data": {
      "application/vnd.jupyter.widget-view+json": {
       "model_id": "5e6695bed42f4547b2897857f47a5e2f",
       "version_major": 2,
       "version_minor": 0
      },
      "text/plain": [
       "Parsing documents into nodes:   0%|          | 0/1 [00:00<?, ?it/s]"
      ]
     },
     "metadata": {},
     "output_type": "display_data"
    },
    {
     "data": {
      "application/vnd.jupyter.widget-view+json": {
       "model_id": "992d4ea953db47fa8f3aa069f6c3a245",
       "version_major": 2,
       "version_minor": 0
      },
      "text/plain": [
       "Generating embeddings:   0%|          | 0/1 [00:00<?, ?it/s]"
      ]
     },
     "metadata": {},
     "output_type": "display_data"
    }
   ],
   "source": [
    "index = VectorStoreIndex.from_documents(\n",
    "    documents, service_context=service_context, show_progress=True)"
   ]
  },
  {
   "cell_type": "code",
   "execution_count": 28,
   "metadata": {},
   "outputs": [
    {
     "name": "stdout",
     "output_type": "stream",
     "text": [
      "<llama_index.query_engine.retriever_query_engine.RetrieverQueryEngine object at 0x7f6c62ea91d0>\n"
     ]
    }
   ],
   "source": [
    "print(index.as_query_engine())"
   ]
  },
  {
   "cell_type": "code",
   "execution_count": 18,
   "metadata": {},
   "outputs": [],
   "source": [
    "query_engine = index.as_query_engine()\n"
   ]
  },
  {
   "cell_type": "code",
   "execution_count": 23,
   "metadata": {},
   "outputs": [],
   "source": [
    "#response = query_engine.query(\"what are the instructions to follow to go back to normal ?\")\n",
    "response = query_engine.query(\"quelles sont les instructions pour revenir à la normale ?\")\n",
    "#display(Markdown(f\"<b>{response}</b>\"))"
   ]
  },
  {
   "cell_type": "code",
   "execution_count": 26,
   "metadata": {},
   "outputs": [
    {
     "data": {
      "text/plain": [
       "'\\nPour retourner à la normale selon l\\'information de contexte fournie, voici les étapes à suivre :\\n\\n1. Mode d\\'alimentation : Appuyez sur Fn + R pour activer le mode d\\'alimentation.\\n2. Réinitialisation : Démarrez votre ordinateur en mode réinitialisation en appuyant sur le bouton \"Réinitialiser\" lors du démarrage.\\n3. Désactiver la carte graphique Nvidia : Ouvrez msconfig en tapant \"msconfig\" dans le menu Démarrer ou recherchez \"msconfig\" dans le menu Rechercher Windows, puis sélectionnez l\\'onglet \"Boot\". Cochez l\\'option \"Advanced options pour Windows 10\" et cliquez sur le bouton \"Editer\". Dans la fenêtre suivante, décoquez'"
      ]
     },
     "execution_count": 26,
     "metadata": {},
     "output_type": "execute_result"
    }
   ],
   "source": [
    "response.response"
   ]
  },
  {
   "cell_type": "code",
   "execution_count": 25,
   "metadata": {},
   "outputs": [
    {
     "name": "stdout",
     "output_type": "stream",
     "text": [
      "\n",
      "Pour retourner à la normale selon l'information de contexte fournie, voici les étapes à suivre :\n",
      "\n",
      "1. Mode d'alimentation : Appuyez sur Fn + R pour activer le mode d'alimentation.\n",
      "2. Réinitialisation : Démarrez votre ordinateur en mode réinitialisation en appuyant sur le bouton \"Réinitialiser\" lors du démarrage.\n",
      "3. Désactiver la carte graphique Nvidia : Ouvrez msconfig en tapant \"msconfig\" dans le menu Démarrer ou recherchez \"msconfig\" dans le menu Rechercher Windows, puis sélectionnez l'onglet \"Boot\". Cochez l'option \"Advanced options pour Windows 10\" et cliquez sur le bouton \"Editer\". Dans la fenêtre suivante, décoquez\n"
     ]
    }
   ],
   "source": [
    "response = query_engine.query(\"quelles sont les instructions pour revenir à la normale ?\")\n",
    "print(response)"
   ]
  }
 ],
 "metadata": {
  "kernelspec": {
   "display_name": "Python 3",
   "language": "python",
   "name": "python3"
  },
  "language_info": {
   "codemirror_mode": {
    "name": "ipython",
    "version": 3
   },
   "file_extension": ".py",
   "mimetype": "text/x-python",
   "name": "python",
   "nbconvert_exporter": "python",
   "pygments_lexer": "ipython3",
   "version": "3.1.0"
  }
 },
 "nbformat": 4,
 "nbformat_minor": 2
}
