{
 "cells": [
  {
   "cell_type": "code",
   "execution_count": 54,
   "metadata": {},
   "outputs": [
    {
     "name": "stdout",
     "output_type": "stream",
     "text": [
      "load INSTRUCTOR_Transformer\n",
      "max_seq_length  512\n"
     ]
    }
   ],
   "source": [
    "from tqdm.notebook import tqdm\n",
    "import os\n",
    "os.environ[\"OPENAI_API_KEY\"] = \"NOOPE\"\n",
    "os.environ[\"OPENAI_API_BASE\"] = \"http://172.19.208.1:1300/v1\"\n",
    "from IPython.display import Markdown, display\n",
    "from llama_index.embeddings import InstructorEmbedding\n",
    "from llama_index import ServiceContext, set_global_service_context\n",
    "embed_model_inst = InstructorEmbedding(model_name=\"hkunlp/instructor-large\")\n",
    "service_context = ServiceContext.from_defaults(embed_model=embed_model_inst)"
   ]
  },
  {
   "cell_type": "markdown",
   "metadata": {},
   "source": [
    "### for text"
   ]
  },
  {
   "cell_type": "code",
   "execution_count": 2,
   "metadata": {},
   "outputs": [
    {
     "name": "stdout",
     "output_type": "stream",
     "text": [
      "768\n"
     ]
    }
   ],
   "source": [
    "text_embeddings = embed_model_inst.get_text_embedding(\"AI is awesome!\")\n",
    "print(len(text_embeddings))\n",
    "#print(text_embeddings)"
   ]
  },
  {
   "cell_type": "markdown",
   "metadata": {},
   "source": [
    "### For documents"
   ]
  },
  {
   "cell_type": "code",
   "execution_count": 3,
   "metadata": {},
   "outputs": [
    {
     "name": "stdout",
     "output_type": "stream",
     "text": [
      "Number of documents: 3\n"
     ]
    }
   ],
   "source": [
    "from llama_index import VectorStoreIndex, SimpleDirectoryReader\n",
    "documents = SimpleDirectoryReader(\"data\").load_data()\n",
    "print(f\"Number of documents: {len(documents)}\")"
   ]
  },
  {
   "cell_type": "code",
   "execution_count": 4,
   "metadata": {},
   "outputs": [
    {
     "data": {
      "application/vnd.jupyter.widget-view+json": {
       "model_id": "d84e3b195379443fa50d04fe7cccb3f4",
       "version_major": 2,
       "version_minor": 0
      },
      "text/plain": [
       "Parsing documents into nodes:   0%|          | 0/3 [00:00<?, ?it/s]"
      ]
     },
     "metadata": {},
     "output_type": "display_data"
    },
    {
     "data": {
      "application/vnd.jupyter.widget-view+json": {
       "model_id": "d9a18a46a1ff479187d19f0749cd0dec",
       "version_major": 2,
       "version_minor": 0
      },
      "text/plain": [
       "Generating embeddings:   0%|          | 0/4 [00:00<?, ?it/s]"
      ]
     },
     "metadata": {},
     "output_type": "display_data"
    }
   ],
   "source": [
    "index = VectorStoreIndex.from_documents(\n",
    "    documents, service_context=service_context, show_progress=True)"
   ]
  },
  {
   "cell_type": "code",
   "execution_count": 5,
   "metadata": {},
   "outputs": [
    {
     "name": "stdout",
     "output_type": "stream",
     "text": [
      "<llama_index.query_engine.retriever_query_engine.RetrieverQueryEngine object at 0x7fe1716ad750>\n"
     ]
    }
   ],
   "source": [
    "print(index.as_query_engine())"
   ]
  },
  {
   "cell_type": "code",
   "execution_count": 6,
   "metadata": {},
   "outputs": [],
   "source": [
    "query_engine = index.as_query_engine()\n"
   ]
  },
  {
   "cell_type": "code",
   "execution_count": 7,
   "metadata": {},
   "outputs": [],
   "source": [
    "#response = query_engine.query(\"what are the instructions to follow to go back to normal ?\")\n",
    "response = query_engine.query(\"quelles sont les instructions pour revenir à la normale ?\")\n",
    "#display(Markdown(f\"<b>{response}</b>\"))"
   ]
  },
  {
   "cell_type": "code",
   "execution_count": 37,
   "metadata": {},
   "outputs": [
    {
     "data": {
      "text/plain": [
       "'d1bbc85f-b006-4110-9142-cbd235845f14'"
      ]
     },
     "execution_count": 37,
     "metadata": {},
     "output_type": "execute_result"
    }
   ],
   "source": []
  },
  {
   "cell_type": "code",
   "execution_count": 50,
   "metadata": {},
   "outputs": [
    {
     "data": {
      "text/plain": [
       "'de financement/crédit-bail :\\nNuméro de la facture\\xa0de référence :\\nImporteur\\nReferenz DN:Lenovo (France) SAS\\n:5260772394\\nDate d\\'expédition Produit Désignation de Produit Quantité Prix Unitaire\\nHT /RéductionMontant NET HT TVA% TVA Montant\\n02.10.2023 82WM000-9FR Legion Pro 5 16\" (R7-32GB-1TB-RTX\\n4070)                  1             1273.88             1273.88 20%              254.78 \\nNuméro du contrat\\nNuméro de bon de livraison 5260772394\\nNuméro de série PF4KL4HZ\\nWEEE REDEVANCE ECOLOGIC                   1                0.42                0.42 20%                0.08\\nSUM of fees above                   1                0.42 20%                0.08\\n       \\nTotal HT TVA% TVA Montant \\n1274.30 20% 254.86 \\nRésumé de la facture 1274.30 20% 254.86 \\nTVA          254,86  EUR\\nSous-total        1.274,30 EUR\\nMontant Total        1.529,16  EUR\\nRécompense programme de\\nfidélité           2,00- EUR\\nNet à payer        1.527,16  EUR\\nTaux de change\\nDate d\\'échéance  01.11.2023\\nLes transactions liées à ce document sont régies par les instruments contractuels signés ou acceptés dúne quelconque autre par le client et Lenovo.\\n  \\nThis invoice/document cannot be used in order to reclaim VAT. Purchases for personal use only. \\nLes prix incluent la rémunération pour copie privée (RCP). Le détail des tarifs est consultable à l’adresse suivante http://www.copiefrance.fr, rubrique Professionnels – Tarifs\\napplicables. Si le produit concerné est destiné à un usage à des fins professionnelles, le remboursement de la RCP peut être obtenu sous conditions détaillées dans la notice\\ndisponible à l’adresse suivante : http://www.copieprivee.culture.gouv.fr.\\nLenovo et le logo Lenovo sont des marques commerciales ou des marques déposées de Lenovo.\\nCe document a été généré par un système informatique et ne nécessite pas de signature.\\nDate = DD.MM.YYYY'"
      ]
     },
     "execution_count": 50,
     "metadata": {},
     "output_type": "execute_result"
    }
   ],
   "source": [
    "node.node.text"
   ]
  },
  {
   "cell_type": "markdown",
   "metadata": {},
   "source": []
  },
  {
   "cell_type": "code",
   "execution_count": 53,
   "metadata": {},
   "outputs": [
    {
     "name": "stdout",
     "output_type": "stream",
     "text": [
      "Document Similarity Search\n",
      "File_name : FR01_FR10_2023_6239471443_YBF2_6239471443_ZB46_FR_0.PDF\n",
      "Page label : 2\n",
      "\n",
      "Document Similarity Search\n",
      "File_name : FR01_FR10_2023_6239471443_YBF2_6239471443_ZB46_FR_0.PDF\n",
      "Page label : 1\n",
      "\n"
     ]
    }
   ],
   "source": [
    "for node in response.source_nodes:\n",
    "    print(\"Document Similarity Search\")\n",
    "    print(\"File name :\", response.metadata[node.node.id_][\"file_name\"])\n",
    "    print(\"Page label :\", response.metadata[node.node.id_][\"page_label\"])\n",
    "    #print(\"Meta Data :\", node.node.metadata)\n",
    "    #print(\"Text :\", node.node.text)\n",
    "    print()"
   ]
  },
  {
   "cell_type": "code",
   "execution_count": 8,
   "metadata": {},
   "outputs": [
    {
     "data": {
      "text/plain": [
       "'\\nBased on the provided context information, we cannot determine what specific situation is being referred to in the query \"quelles sont les instructions pour revenir à la normale ?\". Please provide more context or clarify your query for us to assist you further.'"
      ]
     },
     "execution_count": 8,
     "metadata": {},
     "output_type": "execute_result"
    }
   ],
   "source": [
    "response.response"
   ]
  },
  {
   "cell_type": "code",
   "execution_count": 25,
   "metadata": {},
   "outputs": [
    {
     "name": "stdout",
     "output_type": "stream",
     "text": [
      "\n",
      "Pour retourner à la normale selon l'information de contexte fournie, voici les étapes à suivre :\n",
      "\n",
      "1. Mode d'alimentation : Appuyez sur Fn + R pour activer le mode d'alimentation.\n",
      "2. Réinitialisation : Démarrez votre ordinateur en mode réinitialisation en appuyant sur le bouton \"Réinitialiser\" lors du démarrage.\n",
      "3. Désactiver la carte graphique Nvidia : Ouvrez msconfig en tapant \"msconfig\" dans le menu Démarrer ou recherchez \"msconfig\" dans le menu Rechercher Windows, puis sélectionnez l'onglet \"Boot\". Cochez l'option \"Advanced options pour Windows 10\" et cliquez sur le bouton \"Editer\". Dans la fenêtre suivante, décoquez\n"
     ]
    }
   ],
   "source": [
    "response = query_engine.query(\"quelles sont les instructions pour revenir à la normale ?\")\n",
    "print(response)"
   ]
  }
 ],
 "metadata": {
  "kernelspec": {
   "display_name": "Python 3",
   "language": "python",
   "name": "python3"
  },
  "language_info": {
   "codemirror_mode": {
    "name": "ipython",
    "version": 3
   },
   "file_extension": ".py",
   "mimetype": "text/x-python",
   "name": "python",
   "nbconvert_exporter": "python",
   "pygments_lexer": "ipython3",
   "version": "3.11.6"
  }
 },
 "nbformat": 4,
 "nbformat_minor": 2
}
